{
 "cells": [
  {
   "cell_type": "code",
   "execution_count": 1,
   "metadata": {
    "collapsed": false
   },
   "outputs": [
    {
     "name": "stdout",
     "output_type": "stream",
     "text": [
      "2016-12-19 08:10:51,163 INFO sqlalchemy.engine.base.Engine SHOW VARIABLES LIKE 'sql_mode'\n",
      "2016-12-19 08:10:51,164 INFO sqlalchemy.engine.base.Engine {}\n",
      "2016-12-19 08:10:51,171 INFO sqlalchemy.engine.base.Engine SELECT DATABASE()\n",
      "2016-12-19 08:10:51,172 INFO sqlalchemy.engine.base.Engine {}\n",
      "2016-12-19 08:10:51,181 INFO sqlalchemy.engine.base.Engine show collation where `Charset` = 'utf8' and `Collation` = 'utf8_bin'\n",
      "2016-12-19 08:10:51,182 INFO sqlalchemy.engine.base.Engine {}\n",
      "2016-12-19 08:10:51,193 INFO sqlalchemy.engine.base.Engine SELECT CAST('test plain returns' AS CHAR(60)) AS anon_1\n",
      "2016-12-19 08:10:51,194 INFO sqlalchemy.engine.base.Engine {}\n",
      "2016-12-19 08:10:51,200 INFO sqlalchemy.engine.base.Engine SELECT CAST('test unicode returns' AS CHAR(60)) AS anon_1\n",
      "2016-12-19 08:10:51,202 INFO sqlalchemy.engine.base.Engine {}\n",
      "2016-12-19 08:10:51,207 INFO sqlalchemy.engine.base.Engine SELECT CAST('test collated returns' AS CHAR CHARACTER SET utf8) COLLATE utf8_bin AS anon_1\n",
      "2016-12-19 08:10:51,209 INFO sqlalchemy.engine.base.Engine {}\n",
      "2016-12-19 08:10:51,243 INFO sqlalchemy.engine.base.Engine BEGIN (implicit)\n",
      "2016-12-19 08:10:51,248 INFO sqlalchemy.engine.base.Engine SELECT products.id AS products_id, products.category AS products_category, products.subcategory AS products_subcategory, products.title AS products_title, products.specs AS products_specs, products.price AS products_price, products.stage_price AS products_stage_price, products.image AS products_image \n",
      "FROM products\n",
      "2016-12-19 08:10:51,249 INFO sqlalchemy.engine.base.Engine {}\n",
      "2016-12-19 08:10:51,305 INFO sqlalchemy.engine.base.Engine SELECT services.id AS services_id, services.name AS services_name, services.image AS services_image, services.text AS services_text \n",
      "FROM services\n",
      "2016-12-19 08:10:51,307 INFO sqlalchemy.engine.base.Engine {}\n"
     ]
    }
   ],
   "source": [
    "import os,sys,inspect\n",
    "currentdir = os.path.dirname(os.path.abspath(inspect.getfile(inspect.currentframe())))\n",
    "parentdir = os.path.dirname(currentdir)\n",
    "sys.path.insert(0,parentdir)\n",
    "\n",
    "from antipark import *\n",
    "from antipark.models import Product, Category"
   ]
  },
  {
   "cell_type": "code",
   "execution_count": null,
   "metadata": {
    "collapsed": false
   },
   "outputs": [],
   "source": [
    "import json\n",
    "\n",
    "with open('../antipark/db.json', encoding='utf=8', mode='r') as fo:\n",
    "    data = json.load(fo)\n",
    "\n",
    "d = {}\n",
    "for k,v in data['products'].items():\n",
    "    d[k] = v"
   ]
  },
  {
   "cell_type": "code",
   "execution_count": null,
   "metadata": {
    "collapsed": false
   },
   "outputs": [],
   "source": [
    "db.create_all"
   ]
  },
  {
   "cell_type": "code",
   "execution_count": null,
   "metadata": {
    "collapsed": true
   },
   "outputs": [],
   "source": [
    "# if smth was wrong\n",
    "# db.session.rollback()"
   ]
  },
  {
   "cell_type": "markdown",
   "metadata": {
    "collapsed": true
   },
   "source": [
    "for category, values in d.items():\n",
    "    \n",
    "    description = values['desc']\n",
    "    \n",
    "    cat = Category(category=category,\n",
    "                   description=description,\n",
    "                  )\n",
    "    db.session.add(cat)\n",
    "    db.session.commit()"
   ]
  },
  {
   "cell_type": "markdown",
   "metadata": {
    "collapsed": false
   },
   "source": [
    "categories = Category.query.all()\n",
    "categories"
   ]
  },
  {
   "cell_type": "code",
   "execution_count": null,
   "metadata": {
    "collapsed": false
   },
   "outputs": [],
   "source": [
    "from collections import namedtuple\n",
    "\n",
    "Cat = namedtuple('Cat', ['category', 'idx'])\n",
    "cats = []\n",
    "for category in categories:\n",
    "    if category.category == 'Знаки дорожные':\n",
    "#         flag_cat = Cat(category.category, category.id)\n",
    "        continue\n",
    "    cat = Cat(category.category, category.id)\n",
    "    cats.append(cat)\n",
    "    \n",
    "cats"
   ]
  },
  {
   "cell_type": "code",
   "execution_count": null,
   "metadata": {
    "collapsed": false
   },
   "outputs": [],
   "source": [
    "for category, values in d.items():\n",
    "    \n",
    "    category_id = None\n",
    "    for cat in cats:\n",
    "        if category == cat.category:\n",
    "            category_id = cat.idx\n",
    "            break\n",
    "    if not category_id:\n",
    "        continue\n",
    "    \n",
    "    all_vars = values['variations']\n",
    "    \n",
    "    for var in all_vars:\n",
    "        # prices\n",
    "        prices = all_vars[var]['prices'].strip('[]').split(', ')\n",
    "            \n",
    "        # stage_prices\n",
    "        stage_prices = all_vars[var]['stage'].strip('[]').split(', ')\n",
    "            \n",
    "        # names\n",
    "        names = all_vars[var]['names'].strip('[]').split(', ')\n",
    "        # attrs\n",
    "        attrs = all_vars[var]['attrs'].strip('[]').split(', ')\n",
    "        \n",
    "        # subcategory\n",
    "        subcategory = all_vars[var]['general']\n",
    "        \n",
    "        # specs\n",
    "        chars = all_vars[var]['chars'].strip('[]').split(', ')\n",
    "        char_values_str = all_vars[var]['values'].split('], [')\n",
    "        char_values_temp = []\n",
    "        for ch_v in char_values_str:\n",
    "            char_values_temp.append(ch_v.strip('[]').split(', '))\n",
    "                \n",
    "        specs = []\n",
    "        print(chars)\n",
    "        for ch_v in char_values_temp:\n",
    "            print(ch_v)\n",
    "            print()\n",
    "            char_values_dict = {}\n",
    "            for i, ch in enumerate(ch_v):\n",
    "                char_values_dict[chars[i]] = ch\n",
    "            specs.append(str(char_values_dict))\n",
    "            \n",
    "        # images`\n",
    "        images_str = all_vars[var]['imgs'].strip('[]').split(', ')\n",
    "        images = []\n",
    "        for img in images_str:\n",
    "            image = all_vars[var]['dest'] + img + \".jpg\"\n",
    "            images.append(image)\n",
    "            \n",
    "        \n",
    "        # commit rec to db\n",
    "        for i, title in enumerate(names):\n",
    "            prod = Product(category=category_id,\n",
    "                           subcategory=subcategory,\n",
    "                           title=title,\n",
    "                           attr=attrs[i],\n",
    "                           specs=specs[i],\n",
    "                           price=prices[i],\n",
    "                           stage_price=stage_prices[i],\n",
    "                           image=images[i],\n",
    "                           )\n",
    "            db.session.add(prod)\n",
    "            db.session.commit()"
   ]
  },
  {
   "cell_type": "code",
   "execution_count": null,
   "metadata": {
    "collapsed": false
   },
   "outputs": [],
   "source": [
    "for category in categories:\n",
    "    if category.category != 'Знаки дорожные':\n",
    "        continue\n",
    "    cat_znaki = Cat(category.category, category.id)\n",
    "    \n",
    "cat_znaki"
   ]
  },
  {
   "cell_type": "code",
   "execution_count": null,
   "metadata": {
    "collapsed": false
   },
   "outputs": [],
   "source": [
    "for category, values in d.items():\n",
    "    \n",
    "    if category != 'Знаки дорожные':\n",
    "        continue\n",
    "    \n",
    "    category_id = cat_znaki.id\n",
    "    \n",
    "    all_vars = values['variations']\n",
    "    \n",
    "    for var in all_vars:\n",
    "        # names\n",
    "        names = all_vars[var]['names'].strip('[]').split(', ')\n",
    "        # attrs\n",
    "        attrs = all_vars[var]['attrs'].strip('[]').split(', ')\n",
    "        \n",
    "        \n",
    "#         # prices\n",
    "#         prices = all_vars[var]['prices'].strip('[]').split(', ')\n",
    "            \n",
    "#         # stage_prices\n",
    "#         stage_prices = all_vars[var]['stage'].strip('[]').split(', ')\n",
    "            \n",
    "        \n",
    "        \n",
    "        # subcategory\n",
    "        subcategory = all_vars[var]['general']\n",
    "        \n",
    "        # specs\n",
    "        chars = all_vars[var]['chars'].strip('[]').split(', ')\n",
    "        char_values_str = all_vars[var]['values'].split('], [')\n",
    "        char_values_temp = []\n",
    "        for ch_v in char_values_str:\n",
    "            char_values_temp.append(ch_v.strip('[]').split(', '))\n",
    "                \n",
    "        specs = []\n",
    "        print(chars)\n",
    "        for ch_v in char_values_temp:\n",
    "            print(ch_v)\n",
    "            print()\n",
    "            char_values_dict = {}\n",
    "            for i, ch in enumerate(ch_v):\n",
    "                char_values_dict[chars[i]] = ch\n",
    "            specs.append(str(char_values_dict))\n",
    "            \n",
    "        # images\n",
    "        images_str = all_vars[var]['imgs'].strip('[]').split(', ')\n",
    "        images = []\n",
    "        for img in images_str:\n",
    "            image = all_vars[var]['dest'] + img + \".jpg\"\n",
    "            images.append(image)\n",
    "            \n",
    "        \n",
    "        # commit rec to db\n",
    "        for i, title in enumerate(names):\n",
    "            prod = Product(category=category_id,\n",
    "                           subcategory=subcategory,\n",
    "                           title=title,\n",
    "                           specs=specs[i],\n",
    "                           price=prices[i],\n",
    "                           stage_price=stage_prices[i],\n",
    "                           image=images[i],\n",
    "                           )\n",
    "            db.session.add(prod)\n",
    "            db.session.commit()"
   ]
  }
 ],
 "metadata": {
  "kernelspec": {
   "display_name": "Python 3",
   "language": "python",
   "name": "python3"
  },
  "language_info": {
   "codemirror_mode": {
    "name": "ipython",
    "version": 3
   },
   "file_extension": ".py",
   "mimetype": "text/x-python",
   "name": "python",
   "nbconvert_exporter": "python",
   "pygments_lexer": "ipython3",
   "version": "3.5.2"
  }
 },
 "nbformat": 4,
 "nbformat_minor": 1
}
